{
 "cells": [
  {
   "cell_type": "markdown",
   "metadata": {
    "collapsed": true,
    "pycharm": {
     "name": "#%% md\n"
    }
   },
   "source": [
    "# 流程控制"
   ]
  },
  {
   "cell_type": "markdown",
   "source": [
    "## 1. 数学运算\n",
    "基础的运算如：+ - * / % 是非常基本的操作，只要有计算机基础的同学都会知道\n",
    "我们需要着重介绍的是：\n",
    "1. ** 幂运算\n",
    "2. // 整除"
   ],
   "metadata": {
    "collapsed": false,
    "pycharm": {
     "name": "#%% md\n"
    }
   }
  },
  {
   "cell_type": "code",
   "execution_count": 1,
   "outputs": [],
   "source": [
    "a = 10\n",
    "b = 3"
   ],
   "metadata": {
    "collapsed": false,
    "pycharm": {
     "name": "#%%\n"
    }
   }
  },
  {
   "cell_type": "code",
   "execution_count": 2,
   "outputs": [
    {
     "name": "stdout",
     "output_type": "stream",
     "text": [
      "1000\n"
     ]
    }
   ],
   "source": [
    "print(a ** b)"
   ],
   "metadata": {
    "collapsed": false,
    "pycharm": {
     "name": "#%%\n"
    }
   }
  },
  {
   "cell_type": "code",
   "execution_count": 3,
   "outputs": [
    {
     "name": "stdout",
     "output_type": "stream",
     "text": [
      "3\n"
     ]
    }
   ],
   "source": [
    "print(a // b)"
   ],
   "metadata": {
    "collapsed": false,
    "pycharm": {
     "name": "#%%\n"
    }
   }
  },
  {
   "cell_type": "markdown",
   "source": [
    "## 2. 比较运算\n",
    "在编程中使用的最多的我觉得应该是 == 和 !="
   ],
   "metadata": {
    "collapsed": false,
    "pycharm": {
     "name": "#%% md\n"
    }
   }
  },
  {
   "cell_type": "code",
   "execution_count": 4,
   "outputs": [
    {
     "name": "stdout",
     "output_type": "stream",
     "text": [
      "False\n"
     ]
    }
   ],
   "source": [
    "print(a == b)"
   ],
   "metadata": {
    "collapsed": false,
    "pycharm": {
     "name": "#%%\n"
    }
   }
  },
  {
   "cell_type": "code",
   "execution_count": 5,
   "outputs": [
    {
     "name": "stdout",
     "output_type": "stream",
     "text": [
      "True\n"
     ]
    }
   ],
   "source": [
    "print(a != b)"
   ],
   "metadata": {
    "collapsed": false,
    "pycharm": {
     "name": "#%%\n"
    }
   }
  },
  {
   "cell_type": "code",
   "execution_count": 6,
   "outputs": [
    {
     "name": "stdout",
     "output_type": "stream",
     "text": [
      "True\n"
     ]
    }
   ],
   "source": [
    "print(a >= b)"
   ],
   "metadata": {
    "collapsed": false,
    "pycharm": {
     "name": "#%%\n"
    }
   }
  },
  {
   "cell_type": "code",
   "execution_count": 7,
   "outputs": [
    {
     "name": "stdout",
     "output_type": "stream",
     "text": [
      "True\n"
     ]
    }
   ],
   "source": [
    "print(a > b)"
   ],
   "metadata": {
    "collapsed": false,
    "pycharm": {
     "name": "#%%\n"
    }
   }
  },
  {
   "cell_type": "markdown",
   "source": [
    "## 3. 赋值运算\n",
    "这个地方就是用来给变量赋值，有时使用简写如 a += b，个人不推荐使用这种方式，等价于 a = a + b"
   ],
   "metadata": {
    "collapsed": false,
    "pycharm": {
     "name": "#%% md\n"
    }
   }
  },
  {
   "cell_type": "code",
   "execution_count": 8,
   "outputs": [
    {
     "name": "stdout",
     "output_type": "stream",
     "text": [
      "13\n"
     ]
    }
   ],
   "source": [
    "a += b\n",
    "print(a)"
   ],
   "metadata": {
    "collapsed": false,
    "pycharm": {
     "name": "#%%\n"
    }
   }
  },
  {
   "cell_type": "markdown",
   "source": [
    "## 4. 逻辑运算\n",
    "简单的逻辑判断，是或不是，计算机的世界里非真即假，但是可以通过非运算 ! 操作符将真变为假"
   ],
   "metadata": {
    "collapsed": false,
    "pycharm": {
     "name": "#%% md\n"
    }
   }
  },
  {
   "cell_type": "code",
   "execution_count": 22,
   "outputs": [],
   "source": [
    "real = True\n",
    "fake = False"
   ],
   "metadata": {
    "collapsed": false,
    "pycharm": {
     "name": "#%%\n"
    }
   }
  },
  {
   "cell_type": "code",
   "execution_count": 23,
   "outputs": [
    {
     "name": "stdout",
     "output_type": "stream",
     "text": [
      "True False\n"
     ]
    }
   ],
   "source": [
    "print(real, fake)"
   ],
   "metadata": {
    "collapsed": false,
    "pycharm": {
     "name": "#%%\n"
    }
   }
  },
  {
   "cell_type": "code",
   "execution_count": 24,
   "outputs": [
    {
     "name": "stdout",
     "output_type": "stream",
     "text": [
      "False\n"
     ]
    }
   ],
   "source": [
    "print(not real)"
   ],
   "metadata": {
    "collapsed": false,
    "pycharm": {
     "name": "#%%\n"
    }
   }
  },
  {
   "cell_type": "markdown",
   "source": [
    "## 4. 身份运算\n",
    "判断 A 是不是 B, 比较的是内存中的地址，就是说 A 和 B 是完全一致的"
   ],
   "metadata": {
    "collapsed": false,
    "pycharm": {
     "name": "#%% md\n"
    }
   }
  },
  {
   "cell_type": "code",
   "execution_count": 25,
   "outputs": [
    {
     "data": {
      "text/plain": "False"
     },
     "execution_count": 25,
     "metadata": {},
     "output_type": "execute_result"
    }
   ],
   "source": [
    "a is b"
   ],
   "metadata": {
    "collapsed": false,
    "pycharm": {
     "name": "#%%\n"
    }
   }
  },
  {
   "cell_type": "markdown",
   "source": [
    "## 5. 分支语句\n",
    "if 和 else，如果条件为真则...否则..."
   ],
   "metadata": {
    "collapsed": false,
    "pycharm": {
     "name": "#%% md\n"
    }
   }
  },
  {
   "cell_type": "code",
   "execution_count": 27,
   "outputs": [
    {
     "name": "stdout",
     "output_type": "stream",
     "text": [
      "我是真\n"
     ]
    }
   ],
   "source": [
    "if True:\n",
    "    print(\"我是真\")\n",
    "else:\n",
    "    print(\"我是假的\")"
   ],
   "metadata": {
    "collapsed": false,
    "pycharm": {
     "name": "#%%\n"
    }
   }
  },
  {
   "cell_type": "code",
   "execution_count": 28,
   "outputs": [
    {
     "name": "stdout",
     "output_type": "stream",
     "text": [
      "账号正常使用\n"
     ]
    }
   ],
   "source": [
    "user_login = True\n",
    "user_status = 1\n",
    "if user_login:\n",
    "    if user_status == 1:\n",
    "        print(\"账号正常使用\")\n",
    "    else:\n",
    "        print(\"账号状态异常\")\n",
    "else:\n",
    "    print(\"用户没有登录\")"
   ],
   "metadata": {
    "collapsed": false,
    "pycharm": {
     "name": "#%%\n"
    }
   }
  },
  {
   "cell_type": "code",
   "execution_count": 30,
   "outputs": [
    {
     "name": "stdout",
     "output_type": "stream",
     "text": [
      "良好\n"
     ]
    }
   ],
   "source": [
    "student_score = int(input(\"输入学生的成绩\"))\n",
    "if student_score >= 90:\n",
    "    print(\"优秀\")\n",
    "elif student_score >= 80:\n",
    "    print(\"良好\")\n",
    "elif student_score >= 70:\n",
    "    print(\"合格\")\n",
    "elif student_score >= 60:\n",
    "    print(\"及格\")\n",
    "else:\n",
    "    print(\"不及格\")"
   ],
   "metadata": {
    "collapsed": false,
    "pycharm": {
     "name": "#%%\n"
    }
   }
  },
  {
   "cell_type": "markdown",
   "source": [
    "## 6. 循环\n",
    "没有做完一件事情之前一直重复，直到该停止的时候。如果处理逻辑的时候有错误则会造成死循环即为计算机永远算不出结果的程序，需要注意。"
   ],
   "metadata": {
    "collapsed": false,
    "pycharm": {
     "name": "#%% md\n"
    }
   }
  },
  {
   "cell_type": "code",
   "execution_count": 32,
   "outputs": [
    {
     "name": "stdout",
     "output_type": "stream",
     "text": [
      "我没有那么老喔\n",
      "我已经长大啦\n",
      "恭喜你猜对啦\n"
     ]
    }
   ],
   "source": [
    "my_age = 21\n",
    "user_guess_age = int(input(\"猜猜我的年龄\"))\n",
    "while my_age != user_guess_age:\n",
    "    if user_guess_age > my_age:\n",
    "        print(\"我没有那么老喔\")\n",
    "    elif user_guess_age < my_age:\n",
    "        print(\"我已经长大啦\")\n",
    "    user_guess_age = int(input(\"猜猜我的年龄\"))\n",
    "print(\"恭喜你猜对啦\")"
   ],
   "metadata": {
    "collapsed": false,
    "pycharm": {
     "name": "#%%\n"
    }
   }
  },
  {
   "cell_type": "markdown",
   "source": [
    "使用 break 和 continue 可以跳出循环，具体有什么不一样呢？\n",
    "\n",
    "break 退出本层循环\n",
    "\n",
    "continue 退出本次循环，继续下一次循环"
   ],
   "metadata": {
    "collapsed": false,
    "pycharm": {
     "name": "#%% md\n"
    }
   }
  },
  {
   "cell_type": "code",
   "execution_count": 33,
   "outputs": [
    {
     "name": "stdout",
     "output_type": "stream",
     "text": [
      "恭喜你猜对啦\n"
     ]
    }
   ],
   "source": [
    "while True:\n",
    "    user_guess_age = int(input(\"猜猜我多大了\"))\n",
    "    if user_guess_age > my_age:\n",
    "        print(\"我没有那么老喔\")\n",
    "    elif user_guess_age < my_age:\n",
    "        print(\"我已经长大啦\")\n",
    "    else:\n",
    "        print(\"恭喜你猜对啦\")\n",
    "        break"
   ],
   "metadata": {
    "collapsed": false,
    "pycharm": {
     "name": "#%%\n"
    }
   }
  },
  {
   "cell_type": "markdown",
   "source": [
    "python 中有一种比较特殊的 else 用法，即为 while...else... 语句。当 while 没有被 break，循环完成之后就会执行 else 语句体"
   ],
   "metadata": {
    "collapsed": false,
    "pycharm": {
     "name": "#%% md\n"
    }
   }
  },
  {
   "cell_type": "code",
   "execution_count": 35,
   "outputs": [
    {
     "name": "stdout",
     "output_type": "stream",
     "text": [
      "1\n",
      "2\n",
      "3\n",
      "4\n",
      "5\n",
      "循环执行完了\n"
     ]
    }
   ],
   "source": [
    "count = 1\n",
    "while count <= 5:\n",
    "    print(count)\n",
    "    count += 1\n",
    "else:\n",
    "    print(\"循环执行完了\")"
   ],
   "metadata": {
    "collapsed": false,
    "pycharm": {
     "name": "#%%\n"
    }
   }
  },
  {
   "cell_type": "code",
   "execution_count": 37,
   "outputs": [
    {
     "name": "stdout",
     "output_type": "stream",
     "text": [
      "A\n",
      "B\n",
      "C\n",
      "D\n",
      "E\n",
      "字母都输出完了\n"
     ]
    }
   ],
   "source": [
    "chr_list = [\"A\", \"B\", \"C\", \"D\", \"E\"]\n",
    "for chr_item in chr_list:\n",
    "    print(chr_item)\n",
    "else:\n",
    "    print(\"字母都输出完了\")"
   ],
   "metadata": {
    "collapsed": false,
    "pycharm": {
     "name": "#%%\n"
    }
   }
  },
  {
   "cell_type": "markdown",
   "source": [
    "## all() 和 any()\n",
    "用来简化操作，都接收一个可迭代对象\n",
    "all(seq) 当 seq 都为真返回 True\n",
    "any(seq) 当 seq 中只要有一个为真则返回 True"
   ],
   "metadata": {
    "collapsed": false,
    "pycharm": {
     "name": "#%% md\n"
    }
   }
  },
  {
   "cell_type": "code",
   "execution_count": 40,
   "outputs": [
    {
     "name": "stdout",
     "output_type": "stream",
     "text": [
      "False\n",
      "True\n"
     ]
    }
   ],
   "source": [
    "number_list = [1, 2, 3, 4, 5, 6, 7, 8, 9, 10]\n",
    "print(all(item >= 10 for item in number_list))\n",
    "print(any(item >= 10 for item in number_list))"
   ],
   "metadata": {
    "collapsed": false,
    "pycharm": {
     "name": "#%%\n"
    }
   }
  },
  {
   "cell_type": "markdown",
   "source": [
    "## 总结\n",
    "1. 本节学习了流程控制的内容包括，数字与逻辑判断、分支结构、循环结构\n",
    "2. if else 分支结构中需要尽力避免多重判断嵌套，降低程序可读性和可靠性\n",
    "3. 在分支结构中的重复代码如果可以抽离成公共函数则一定拆分\n",
    "4. 使用 all() 和 any() 简化操作\n",
    "5. 判断 变量是否为 None 时一定使用 is 不要使用 ==\n",
    "6. and 的优先级比 or 要高，所以请在使用多重条件时多用括号"
   ],
   "metadata": {
    "collapsed": false,
    "pycharm": {
     "name": "#%% md\n"
    }
   }
  }
 ],
 "metadata": {
  "kernelspec": {
   "display_name": "Python 3",
   "language": "python",
   "name": "python3"
  },
  "language_info": {
   "codemirror_mode": {
    "name": "ipython",
    "version": 2
   },
   "file_extension": ".py",
   "mimetype": "text/x-python",
   "name": "python",
   "nbconvert_exporter": "python",
   "pygments_lexer": "ipython2",
   "version": "2.7.6"
  }
 },
 "nbformat": 4,
 "nbformat_minor": 0
}